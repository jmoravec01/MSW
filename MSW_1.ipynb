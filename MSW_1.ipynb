{
 "cells": [
  {
   "cell_type": "code",
   "execution_count": 1,
   "metadata": {},
   "outputs": [],
   "source": [
    "import numpy as np\n",
    "import timeit\n",
    "\n",
    "# defined vectors\n",
    "pyth_vec_1 = [1, 2, 3]\n",
    "pyth_vec_2 = [9, 8, 7]\n",
    "np_vec_1 = np.array([1, 2, 3])\n",
    "np_vec_2 = np.array([9, 8, 7])"
   ]
  },
  {
   "cell_type": "markdown",
   "metadata": {},
   "source": [
    "### multiplication"
   ]
  },
  {
   "cell_type": "code",
   "execution_count": 2,
   "metadata": {},
   "outputs": [
    {
     "name": "stdout",
     "output_type": "stream",
     "text": [
      "raw-Python: 7.798700000000025e-07s\n",
      "NumPy-Python: 1.963885999999988e-06s\n"
     ]
    }
   ],
   "source": [
    "def python_multiplication(vec1, vec2):\n",
    "    return (sum((i*j) for (i, j) in zip(vec1, vec2)))\n",
    "\n",
    "def numpy_multiplication(vec1, vec2):\n",
    "    return (np.dot(vec1, vec2))\n",
    "\n",
    "raw_multiplication = timeit.timeit(lambda: python_multiplication(pyth_vec_1, pyth_vec_2), number=100000)\n",
    "numpy_multiplication = timeit.timeit(lambda: numpy_multiplication(np_vec_1, np_vec_2), number=100000)\n",
    "\n",
    "print(f\"raw-Python: {raw_multiplication/100000}s\")\n",
    "print(f\"NumPy-Python: {numpy_multiplication/100000}s\")"
   ]
  },
  {
   "cell_type": "markdown",
   "metadata": {},
   "source": [
    "### addition"
   ]
  },
  {
   "cell_type": "code",
   "execution_count": 3,
   "metadata": {},
   "outputs": [
    {
     "name": "stdout",
     "output_type": "stream",
     "text": [
      "raw-Python: 6.910549999999915e-07s\n",
      "NumPy-Python: 4.8093010000000196e-06s\n"
     ]
    }
   ],
   "source": [
    "def python_addition(vec1, vec2):\n",
    "    return (sum([i+j for (i, j) in zip(vec1, vec2)]))\n",
    "\n",
    "def numpy_addition(vec1, vec2):\n",
    "    return (np.sum(np.add(vec1, vec2)))\n",
    "\n",
    "raw_addition = timeit.timeit(lambda: python_addition(pyth_vec_1, pyth_vec_2), number=100000)\n",
    "numpy_addition = timeit.timeit(lambda: numpy_addition(np_vec_1, np_vec_2), number=100000)\n",
    "\n",
    "print(f\"raw-Python: {raw_addition/100000}s\")\n",
    "print(f\"NumPy-Python: {numpy_addition/100000}s\")"
   ]
  },
  {
   "cell_type": "markdown",
   "metadata": {},
   "source": [
    "### division"
   ]
  },
  {
   "cell_type": "code",
   "execution_count": 4,
   "metadata": {},
   "outputs": [
    {
     "name": "stdout",
     "output_type": "stream",
     "text": [
      "raw-Python: 7.132000000000005e-07s\n",
      "NumPy-Python: 6.217830999999983e-06s\n"
     ]
    }
   ],
   "source": [
    "def python_division(vec1, vec2):\n",
    "    return (sum([i/j for (i, j) in zip(vec1, vec2)]))\n",
    "\n",
    "def numpy_division(vec1, vec2):\n",
    "    return (np.sum(np.divide(vec1, vec2)))\n",
    "\n",
    "raw_division = timeit.timeit(lambda: python_division(pyth_vec_1, pyth_vec_2), number=100000)\n",
    "numpy_division = timeit.timeit(lambda: numpy_division(np_vec_1, np_vec_2), number=100000)\n",
    "\n",
    "print(f\"raw-Python: {raw_division/100000}s\")\n",
    "print(f\"NumPy-Python: {numpy_division/100000}s\")"
   ]
  },
  {
   "cell_type": "markdown",
   "metadata": {},
   "source": [
    "### subtraction"
   ]
  },
  {
   "cell_type": "code",
   "execution_count": 5,
   "metadata": {},
   "outputs": [
    {
     "name": "stdout",
     "output_type": "stream",
     "text": [
      "raw-Python: 8.652660000000267e-07s\n",
      "NumPy-Python: 5.122266999999994e-06s\n"
     ]
    }
   ],
   "source": [
    "def python_subtraction(vec1, vec2):\n",
    "    return (sum([i-j for (i, j) in zip(vec1, vec2)]))\n",
    "\n",
    "def numpy_subtraction(vec1, vec2):\n",
    "    return (np.sum(np.subtract(vec1, vec2)))\n",
    "\n",
    "raw_subtraction = timeit.timeit(lambda: python_subtraction(pyth_vec_1, pyth_vec_2), number=100000)\n",
    "numpy_subtraction = timeit.timeit(lambda: numpy_subtraction(np_vec_1, np_vec_2), number=100000)\n",
    "\n",
    "print(f\"raw-Python: {raw_subtraction/100000}s\")\n",
    "print(f\"NumPy-Python: {numpy_subtraction/100000}s\")"
   ]
  },
  {
   "cell_type": "markdown",
   "metadata": {},
   "source": [
    "### module"
   ]
  },
  {
   "cell_type": "code",
   "execution_count": 6,
   "metadata": {},
   "outputs": [
    {
     "name": "stdout",
     "output_type": "stream",
     "text": [
      "raw-Python: 6.299980000000005e-07s\n",
      "NumPy-Python: 4.815895999999995e-06s\n"
     ]
    }
   ],
   "source": [
    "def python_module(vec1, vec2):\n",
    "    return (sum([i%j for (i, j) in zip(vec1, vec2)]))\n",
    "\n",
    "def numpy_module(vec1, vec2):\n",
    "    return (np.sum(np.mod(vec1, vec2)))\n",
    "\n",
    "raw_module = timeit.timeit(lambda: python_module(pyth_vec_1, pyth_vec_2), number=100000)\n",
    "numpy_module = timeit.timeit(lambda: numpy_module(np_vec_1, np_vec_2), number=100000)\n",
    "\n",
    "print(f\"raw-Python: {raw_module/100000}s\")\n",
    "print(f\"NumPy-Python: {numpy_module/100000}s\")"
   ]
  }
 ],
 "metadata": {
  "kernelspec": {
   "display_name": "Python 3.9.13 64-bit (windows store)",
   "language": "python",
   "name": "python3"
  },
  "language_info": {
   "codemirror_mode": {
    "name": "ipython",
    "version": 3
   },
   "file_extension": ".py",
   "mimetype": "text/x-python",
   "name": "python",
   "nbconvert_exporter": "python",
   "pygments_lexer": "ipython3",
   "version": "3.9.13"
  },
  "orig_nbformat": 4,
  "vscode": {
   "interpreter": {
    "hash": "1c40aed777bc3bea00312d81e86c02d46e6654f5f54c91ddfe113963ea45a4b8"
   }
  }
 },
 "nbformat": 4,
 "nbformat_minor": 2
}
