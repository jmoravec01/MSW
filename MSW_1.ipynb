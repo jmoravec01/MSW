{
 "cells": [
  {
   "cell_type": "code",
   "execution_count": 20,
   "metadata": {},
   "outputs": [],
   "source": [
    "import numpy as np\n",
    "import timeit\n",
    "\n",
    "# defined vectors\n",
    "pyth_vec_1 = [1, 2, 3]\n",
    "pyth_vec_2 = [9, 8, 7]\n",
    "np_vec_1 = np.array([1, 2, 3])\n",
    "np_vec_2 = np.array([9, 8, 7])"
   ]
  },
  {
   "cell_type": "markdown",
   "metadata": {},
   "source": [
    "### multiplication"
   ]
  },
  {
   "cell_type": "code",
   "execution_count": 21,
   "metadata": {},
   "outputs": [
    {
     "name": "stdout",
     "output_type": "stream",
     "text": [
      "raw-Python: 6.987220000019079e-07s\n",
      "NumPy-Python: 1.8979269999999815e-06s\n"
     ]
    }
   ],
   "source": [
    "def python_multiplication(vec1, vec2):\n",
    "    return (sum((i*j) for (i, j) in zip(vec1, vec2)))\n",
    "\n",
    "def numpy_multiplication(vec1, vec2):\n",
    "    return (np.dot(vec1, vec2))\n",
    "\n",
    "raw_multiplication = timeit.timeit(lambda: python_multiplication(pyth_vec_1, pyth_vec_2), number=100000)\n",
    "numpy_multiplication = timeit.timeit(lambda: numpy_multiplication(np_vec_1, np_vec_2), number=100000)\n",
    "\n",
    "print(f\"raw-Python: {raw_multiplication/100000}s\")\n",
    "print(f\"NumPy-Python: {numpy_multiplication/100000}s\")"
   ]
  },
  {
   "cell_type": "markdown",
   "metadata": {},
   "source": [
    "### addition"
   ]
  },
  {
   "cell_type": "code",
   "execution_count": 22,
   "metadata": {},
   "outputs": [
    {
     "name": "stdout",
     "output_type": "stream",
     "text": [
      "raw-Python: 6.133969999973487e-07s\n",
      "NumPy-Python: 5.072218999998767e-06s\n"
     ]
    }
   ],
   "source": [
    "def python_addition(vec1, vec2):\n",
    "    return (sum([i+j for (i, j) in zip(vec1, vec2)]))\n",
    "\n",
    "def numpy_addition(vec1, vec2):\n",
    "    return (np.sum(np.add(vec1, vec2)))\n",
    "\n",
    "raw_addition = timeit.timeit(lambda: python_addition(pyth_vec_1, pyth_vec_2), number=100000)\n",
    "numpy_addition = timeit.timeit(lambda: numpy_addition(np_vec_1, np_vec_2), number=100000)\n",
    "\n",
    "print(f\"raw-Python: {raw_addition/100000}s\")\n",
    "print(f\"NumPy-Python: {numpy_addition/100000}s\")"
   ]
  },
  {
   "cell_type": "markdown",
   "metadata": {},
   "source": [
    "### division"
   ]
  },
  {
   "cell_type": "code",
   "execution_count": 23,
   "metadata": {},
   "outputs": [
    {
     "name": "stdout",
     "output_type": "stream",
     "text": [
      "raw-Python: 6.492939999998271e-07s\n",
      "NumPy-Python: 6.371773000000758e-06s\n"
     ]
    }
   ],
   "source": [
    "def python_division(vec1, vec2):\n",
    "    return (sum([i/j for (i, j) in zip(vec1, vec2)]))\n",
    "\n",
    "def numpy_division(vec1, vec2):\n",
    "    return (np.sum(np.divide(vec1, vec2)))\n",
    "\n",
    "raw_division = timeit.timeit(lambda: python_division(pyth_vec_1, pyth_vec_2), number=100000)\n",
    "numpy_division = timeit.timeit(lambda: numpy_division(np_vec_1, np_vec_2), number=100000)\n",
    "\n",
    "print(f\"raw-Python: {raw_division/100000}s\")\n",
    "print(f\"NumPy-Python: {numpy_division/100000}s\")"
   ]
  },
  {
   "cell_type": "markdown",
   "metadata": {},
   "source": [
    "### subtraction"
   ]
  },
  {
   "cell_type": "code",
   "execution_count": 24,
   "metadata": {},
   "outputs": [
    {
     "name": "stdout",
     "output_type": "stream",
     "text": [
      "raw-Python: 6.575530000009166e-07s\n",
      "NumPy-Python: 4.909312999998292e-06s\n"
     ]
    }
   ],
   "source": [
    "def python_subtraction(vec1, vec2):\n",
    "    return (sum([i-j for (i, j) in zip(vec1, vec2)]))\n",
    "\n",
    "def numpy_subtraction(vec1, vec2):\n",
    "    return (np.sum(np.subtract(vec1, vec2)))\n",
    "\n",
    "raw_subtraction = timeit.timeit(lambda: python_subtraction(pyth_vec_1, pyth_vec_2), number=100000)\n",
    "numpy_subtraction = timeit.timeit(lambda: numpy_subtraction(np_vec_1, np_vec_2), number=100000)\n",
    "\n",
    "print(f\"raw-Python: {raw_subtraction/100000}s\")\n",
    "print(f\"NumPy-Python: {numpy_subtraction/100000}s\")"
   ]
  },
  {
   "cell_type": "markdown",
   "metadata": {},
   "source": [
    "### module"
   ]
  },
  {
   "cell_type": "code",
   "execution_count": 25,
   "metadata": {},
   "outputs": [
    {
     "name": "stdout",
     "output_type": "stream",
     "text": [
      "raw-Python: 5.846760000031282e-07s\n",
      "NumPy-Python: 4.887980000003153e-06s\n"
     ]
    }
   ],
   "source": [
    "def python_module(vec1, vec2):\n",
    "    return (sum([i%j for (i, j) in zip(vec1, vec2)]))\n",
    "\n",
    "def numpy_module(vec1, vec2):\n",
    "    return (np.sum(np.mod(vec1, vec2)))\n",
    "\n",
    "raw_module = timeit.timeit(lambda: python_module(pyth_vec_1, pyth_vec_2), number=100000)\n",
    "numpy_module = timeit.timeit(lambda: numpy_module(np_vec_1, np_vec_2), number=100000)\n",
    "\n",
    "print(f\"raw-Python: {raw_module/100000}s\")\n",
    "print(f\"NumPy-Python: {numpy_module/100000}s\")"
   ]
  }
 ],
 "metadata": {
  "interpreter": {
   "hash": "1c40aed777bc3bea00312d81e86c02d46e6654f5f54c91ddfe113963ea45a4b8"
  },
  "kernelspec": {
   "display_name": "Python 3.9.12 64-bit (windows store)",
   "language": "python",
   "name": "python3"
  },
  "language_info": {
   "codemirror_mode": {
    "name": "ipython",
    "version": 3
   },
   "file_extension": ".py",
   "mimetype": "text/x-python",
   "name": "python",
   "nbconvert_exporter": "python",
   "pygments_lexer": "ipython3",
   "version": "3.9.13"
  },
  "orig_nbformat": 4
 },
 "nbformat": 4,
 "nbformat_minor": 2
}
