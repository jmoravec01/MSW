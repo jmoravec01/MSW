{
 "cells": [
  {
   "cell_type": "code",
   "execution_count": 12,
   "metadata": {},
   "outputs": [],
   "source": [
    "import numpy as np\n",
    "import timeit\n",
    "\n",
    "# defined vectors\n",
    "pyth_vec_1 = [1, 2, 3]\n",
    "pyth_vec_2 = [9, 8, 7]\n",
    "np_vec_1 = np.array([1, 2, 3])\n",
    "np_vec_2 = np.array([9, 8, 7])"
   ]
  },
  {
   "cell_type": "markdown",
   "metadata": {},
   "source": [
    "### multiplication"
   ]
  },
  {
   "cell_type": "code",
   "execution_count": 13,
   "metadata": {},
   "outputs": [
    {
     "name": "stdout",
     "output_type": "stream",
     "text": [
      "raw-Python: 0.720300199999997s\n",
      "NumPy-Python: 1.7191224000000034s\n"
     ]
    }
   ],
   "source": [
    "def python_multiplication(vec1, vec2):\n",
    "    return (sum((i*j) for (i, j) in zip(vec1, vec2)))\n",
    "\n",
    "def numpy_multiplication(vec1, vec2):\n",
    "    return (np.dot(vec1, vec2))\n",
    "\n",
    "raw_multiplication = timeit.timeit(lambda: python_multiplication(pyth_vec_1, pyth_vec_2))\n",
    "numpy_multiplication = timeit.timeit(lambda: numpy_multiplication(np_vec_1, np_vec_2))\n",
    "\n",
    "print(f\"raw-Python: {raw_multiplication}s\")\n",
    "print(f\"NumPy-Python: {numpy_multiplication}s\")"
   ]
  },
  {
   "cell_type": "markdown",
   "metadata": {},
   "source": [
    "### addition"
   ]
  },
  {
   "cell_type": "code",
   "execution_count": 14,
   "metadata": {},
   "outputs": [
    {
     "name": "stdout",
     "output_type": "stream",
     "text": [
      "raw-Python: 0.610038000000003s\n",
      "NumPy-Python: 4.918217300000009s\n"
     ]
    }
   ],
   "source": [
    "def python_addition(vec1, vec2):\n",
    "    return (sum([i+j for (i, j) in zip(vec1, vec2)]))\n",
    "\n",
    "def numpy_addition(vec1, vec2):\n",
    "    return (np.sum(np.add(vec1, vec2)))\n",
    "\n",
    "raw_addition = timeit.timeit(lambda: python_addition(pyth_vec_1, pyth_vec_2))\n",
    "numpy_addition = timeit.timeit(lambda: numpy_addition(np_vec_1, np_vec_2))\n",
    "\n",
    "print(f\"raw-Python: {raw_addition}s\")\n",
    "print(f\"NumPy-Python: {numpy_addition}s\")"
   ]
  },
  {
   "cell_type": "markdown",
   "metadata": {},
   "source": [
    "### division"
   ]
  },
  {
   "cell_type": "code",
   "execution_count": 15,
   "metadata": {},
   "outputs": [
    {
     "name": "stdout",
     "output_type": "stream",
     "text": [
      "raw-Python: 0.7301417000000185s\n",
      "NumPy-Python: 6.248342399999984s\n"
     ]
    }
   ],
   "source": [
    "def python_division(vec1, vec2):\n",
    "    return (sum([i/j for (i, j) in zip(vec1, vec2)]))\n",
    "\n",
    "def numpy_division(vec1, vec2):\n",
    "    return (np.sum(np.divide(vec1, vec2)))\n",
    "\n",
    "raw_division = timeit.timeit(lambda: python_division(pyth_vec_1, pyth_vec_2))\n",
    "numpy_division = timeit.timeit(lambda: numpy_division(np_vec_1, np_vec_2))\n",
    "\n",
    "print(f\"raw-Python: {raw_division}s\")\n",
    "print(f\"NumPy-Python: {numpy_division}s\")"
   ]
  },
  {
   "cell_type": "markdown",
   "metadata": {},
   "source": [
    "### subtraction"
   ]
  },
  {
   "cell_type": "code",
   "execution_count": 16,
   "metadata": {},
   "outputs": [
    {
     "name": "stdout",
     "output_type": "stream",
     "text": [
      "raw-Python: 0.6134543000000008s\n",
      "NumPy-Python: 5.002742800000021s\n"
     ]
    }
   ],
   "source": [
    "def python_subtraction(vec1, vec2):\n",
    "    return (sum([i-j for (i, j) in zip(vec1, vec2)]))\n",
    "\n",
    "def numpy_subtraction(vec1, vec2):\n",
    "    return (np.sum(np.subtract(vec1, vec2)))\n",
    "\n",
    "raw_subtraction = timeit.timeit(lambda: python_subtraction(pyth_vec_1, pyth_vec_2))\n",
    "numpy_subtraction = timeit.timeit(lambda: numpy_subtraction(np_vec_1, np_vec_2))\n",
    "\n",
    "print(f\"raw-Python: {raw_subtraction}s\")\n",
    "print(f\"NumPy-Python: {numpy_subtraction}s\")"
   ]
  },
  {
   "cell_type": "markdown",
   "metadata": {},
   "source": [
    "### module"
   ]
  },
  {
   "cell_type": "code",
   "execution_count": 17,
   "metadata": {},
   "outputs": [
    {
     "name": "stdout",
     "output_type": "stream",
     "text": [
      "raw-Python: 0.6627069000000176s\n",
      "NumPy-Python: 4.867746299999993s\n"
     ]
    }
   ],
   "source": [
    "def python_module(vec1, vec2):\n",
    "    return (sum([i%j for (i, j) in zip(vec1, vec2)]))\n",
    "\n",
    "def numpy_module(vec1, vec2):\n",
    "    return (np.sum(np.mod(vec1, vec2)))\n",
    "\n",
    "raw_module = timeit.timeit(lambda: python_module(pyth_vec_1, pyth_vec_2))\n",
    "numpy_module = timeit.timeit(lambda: numpy_module(np_vec_1, np_vec_2))\n",
    "\n",
    "print(f\"raw-Python: {raw_module}s\")\n",
    "print(f\"NumPy-Python: {numpy_module}s\")"
   ]
  }
 ],
 "metadata": {
  "interpreter": {
   "hash": "1c40aed777bc3bea00312d81e86c02d46e6654f5f54c91ddfe113963ea45a4b8"
  },
  "kernelspec": {
   "display_name": "Python 3.9.12 64-bit (windows store)",
   "language": "python",
   "name": "python3"
  },
  "language_info": {
   "codemirror_mode": {
    "name": "ipython",
    "version": 3
   },
   "file_extension": ".py",
   "mimetype": "text/x-python",
   "name": "python",
   "nbconvert_exporter": "python",
   "pygments_lexer": "ipython3",
   "version": "3.9.13"
  },
  "orig_nbformat": 4
 },
 "nbformat": 4,
 "nbformat_minor": 2
}
