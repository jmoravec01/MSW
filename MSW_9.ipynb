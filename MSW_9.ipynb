{
 "cells": [
  {
   "cell_type": "code",
   "execution_count": 1,
   "metadata": {},
   "outputs": [],
   "source": [
    "import numpy as np\n",
    "import scipy.integrate"
   ]
  },
  {
   "cell_type": "code",
   "execution_count": 2,
   "metadata": {},
   "outputs": [],
   "source": [
    "def func1(x):\n",
    "    return -x**3 + 3*x**2 + x -3\n",
    "def func2(x):\n",
    "    return 8*x - np.exp(-5*x) + 5\n",
    "def func3(x):\n",
    "    return np.sin(x+2)\n",
    "\n",
    "a = 0\n",
    "b = 3\n",
    "dx = 0.1"
   ]
  },
  {
   "cell_type": "code",
   "execution_count": 3,
   "metadata": {},
   "outputs": [],
   "source": [
    "# analytické řešení\n",
    "def analytic(f, a, b):\n",
    "    x = scipy.integrate.quad(f, a, b)\n",
    "    return(x[0])\n",
    "\n",
    "# scipy trapezoid\n",
    "def scipy_trapezoid(f, a, b, dx):\n",
    "    x = np.arange(a, b+dx, dx)\n",
    "    y = f(x)\n",
    "    return(scipy.integrate.trapezoid(y, x))\n",
    "\n",
    "# scipy simpson\n",
    "def scipy_simpson(f, a, b, dx):\n",
    "    x = np.arange(a, b+dx, dx)\n",
    "    y = f(x)\n",
    "    return(scipy.integrate.simpson(y, x))\n",
    "\n",
    "# scipy romberg\n",
    "def scipy_romberg(f, a, b):\n",
    "    return(scipy.integrate.romberg(f, a, b))\n",
    "\n",
    "# scipy gaussian\n",
    "def scipy_gaussian(f, a, b):\n",
    "    return(scipy.integrate.quadrature(f, a, b)[0])"
   ]
  },
  {
   "cell_type": "code",
   "execution_count": 4,
   "metadata": {},
   "outputs": [
    {
     "name": "stdout",
     "output_type": "stream",
     "text": [
      "TRAPEZOID: vysledek: 2.2424999999999997, odlišnost: 0.007500000000000284\n",
      "ROMBERG: vysledek: 2.25, odlišnost: 0.0\n",
      "SIMPSON: vysledek: 2.25, odlišnost: 0.0\n",
      "GAUSS: vysledek: 2.2499999999999982, odlišnost: 1.7763568394002505e-15\n"
     ]
    }
   ],
   "source": [
    "# FUNCTION 1\n",
    "a1 = analytic(func1, a, b)\n",
    "f1 = scipy_trapezoid(func1, a, b, dx)\n",
    "f2 = scipy_romberg(func1, a, b)\n",
    "f3 = scipy_simpson(func1, a, b, dx)\n",
    "f4 = scipy_gaussian(func1, a, b)\n",
    "print(f\"TRAPEZOID: vysledek: {f1}, odlišnost: {a1 - f1}\")\n",
    "print(f\"ROMBERG: vysledek: {f2}, odlišnost: {a1 - f2}\")\n",
    "print(f\"SIMPSON: vysledek: {f3}, odlišnost: {a1 - f3}\")\n",
    "print(f\"GAUSS: vysledek: {f4}, odlišnost: {a1 - f4}\")\n",
    "\n"
   ]
  },
  {
   "cell_type": "code",
   "execution_count": 5,
   "metadata": {},
   "outputs": [
    {
     "name": "stdout",
     "output_type": "stream",
     "text": [
      "TRAPEZOID: vysledek: 50.79585065419611, odlišnost: 0.004149406984346626\n",
      "ROMBERG: vysledek: 50.800000060460874, odlišnost: 7.195808393589687e-10\n",
      "SIMPSON: vysledek: 50.79993263065414, odlišnost: 6.743052631463797e-05\n",
      "GAUSS: vysledek: 50.80000007818083, odlišnost: -1.700037444152258e-08\n"
     ]
    }
   ],
   "source": [
    "# FUNCTION 2\n",
    "a1 = analytic(func2, a, b)\n",
    "f1 = scipy_trapezoid(func2, a, b, dx)\n",
    "f2 = scipy_romberg(func2, a, b)\n",
    "f3 = scipy_simpson(func2, a, b, dx)\n",
    "f4 = scipy_gaussian(func2, a, b)\n",
    "print(f\"TRAPEZOID: vysledek: {f1}, odlišnost: {a1 - f1}\")\n",
    "print(f\"ROMBERG: vysledek: {f2}, odlišnost: {a1 - f2}\")\n",
    "print(f\"SIMPSON: vysledek: {f3}, odlišnost: {a1 - f3}\")\n",
    "print(f\"GAUSS: vysledek: {f4}, odlišnost: {a1 - f4}\")"
   ]
  },
  {
   "cell_type": "code",
   "execution_count": 6,
   "metadata": {},
   "outputs": [
    {
     "name": "stdout",
     "output_type": "stream",
     "text": [
      "TRAPEZOID: vysledek: -0.6992257506065149, odlišnost: -0.0005832714038536135\n",
      "ROMBERG: vysledek: -0.6998090220106249, odlišnost: 2.5635049638594865e-13\n",
      "SIMPSON: vysledek: -0.6998094112564818, odlišnost: 3.892461132304348e-07\n",
      "GAUSS: vysledek: -0.6998090220106838, odlišnost: 3.1530333899354446e-13\n"
     ]
    }
   ],
   "source": [
    "# FUNCTION 3\n",
    "a1 = analytic(func3, a, b)\n",
    "f1 = scipy_trapezoid(func3, a, b, dx)\n",
    "f2 = scipy_romberg(func3, a, b)\n",
    "f3 = scipy_simpson(func3, a, b, dx)\n",
    "f4 = scipy_gaussian(func3, a, b)\n",
    "print(f\"TRAPEZOID: vysledek: {f1}, odlišnost: {a1 - f1}\")\n",
    "print(f\"ROMBERG: vysledek: {f2}, odlišnost: {a1 - f2}\")\n",
    "print(f\"SIMPSON: vysledek: {f3}, odlišnost: {a1 - f3}\")\n",
    "print(f\"GAUSS: vysledek: {f4}, odlišnost: {a1 - f4}\")"
   ]
  }
 ],
 "metadata": {
  "kernelspec": {
   "display_name": "Python 3.9.13 64-bit (windows store)",
   "language": "python",
   "name": "python3"
  },
  "language_info": {
   "codemirror_mode": {
    "name": "ipython",
    "version": 3
   },
   "file_extension": ".py",
   "mimetype": "text/x-python",
   "name": "python",
   "nbconvert_exporter": "python",
   "pygments_lexer": "ipython3",
   "version": "3.9.13"
  },
  "orig_nbformat": 4,
  "vscode": {
   "interpreter": {
    "hash": "1c40aed777bc3bea00312d81e86c02d46e6654f5f54c91ddfe113963ea45a4b8"
   }
  }
 },
 "nbformat": 4,
 "nbformat_minor": 2
}
